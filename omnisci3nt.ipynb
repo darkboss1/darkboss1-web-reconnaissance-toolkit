{
 "cells": [
  {
   "cell_type": "markdown",
   "metadata": {},
   "source": [
    "# 🔍 Omnisci3nt - Web Recon CLI Tool\n",
    "\n",
    "**Install and use Omnisci3nt right here in Colab or Jupyter.**"
   ]
  },
  {
   "cell_type": "code",
   "execution_count": null,
   "metadata": {},
   "outputs": [],
   "source": [
    "# 📦 Clone the repo and install dependencies\n",
    "!git clone https://github.com/spyboy-productions/omnisci3nt.git\n",
    "%cd omnisci3nt\n",
    "!pip3 install -r requirements.txt"
   ]
  },
  {
   "cell_type": "code",
   "execution_count": null,
   "metadata": {},
   "outputs": [],
   "source": [
    "# 📘 Show command help\n",
    "!python3 -m omnisci3nt.omnisci3nt -h"
   ]
  },
  {
   "cell_type": "markdown",
   "metadata": {},
   "source": [
    "## ✅ Example Usage"
   ]
  },
  {
   "cell_type": "code",
   "execution_count": null,
   "metadata": {},
   "outputs": [],
   "source": [
    "# 🔍 Run All recon on example.com\n",
    "!python3 -m omnisci3nt.omnisci3nt -all example.com"
   ]
  }
 ],
 "metadata": {
  "colab": {
   "provenance": []
  },
  "kernelspec": {
   "display_name": "Python 3",
   "language": "python",
   "name": "python3"
  },
  "language_info": {
   "name": "python"
  }
 },
 "nbformat": 4,
 "nbformat_minor": 0
}
